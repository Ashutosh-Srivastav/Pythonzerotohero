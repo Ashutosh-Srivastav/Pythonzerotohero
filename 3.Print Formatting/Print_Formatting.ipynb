{
 "cells": [
  {
   "cell_type": "markdown",
   "metadata": {},
   "source": [
    "# Print Formatting"
   ]
  },
  {
   "cell_type": "code",
   "execution_count": 1,
   "metadata": {},
   "outputs": [
    {
     "name": "stdout",
     "output_type": "stream",
     "text": [
      "Inserting my String here\n"
     ]
    }
   ],
   "source": [
    "str=\"String\"\n",
    "print(\"Inserting my %s here\"%str)"
   ]
  },
  {
   "cell_type": "code",
   "execution_count": 2,
   "metadata": {},
   "outputs": [
    {
     "name": "stdout",
     "output_type": "stream",
     "text": [
      "Inserting float as string: 13.44\n"
     ]
    }
   ],
   "source": [
    "numstr=13.44\n",
    "print(\"Inserting float as string: %s\"%numstr)"
   ]
  },
  {
   "cell_type": "code",
   "execution_count": 6,
   "metadata": {},
   "outputs": [
    {
     "name": "stdout",
     "output_type": "stream",
     "text": [
      "Manipulating my num variable upto 2 decimal points 19.57. minimum number of digit before decimal is 1 and after decimal is 2\n"
     ]
    }
   ],
   "source": [
    "num=19.56674\n",
    "print(\"Manipulating my num variable upto 2 decimal points %1.2f. minimum number of digit before decimal is 1 and after decimal is 2\"%num)"
   ]
  },
  {
   "cell_type": "code",
   "execution_count": 7,
   "metadata": {},
   "outputs": [
    {
     "name": "stdout",
     "output_type": "stream",
     "text": [
      "convert to string 123\n"
     ]
    }
   ],
   "source": [
    "print (\"convert to string %r\"%123)\n",
    "\n",
    "#%r uses repr() method and %s uses str() method"
   ]
  },
  {
   "cell_type": "code",
   "execution_count": 9,
   "metadata": {},
   "outputs": [
    {
     "name": "stdout",
     "output_type": "stream",
     "text": [
      "Hi my name is Ashutosh , my age is 23 and i am a Coding Geek!\n"
     ]
    }
   ],
   "source": [
    "#python formats variables as in order of passing\n",
    "print(\"Hi my name is %s , my age is %s and i am a %s\"%('Ashutosh',23,\"Coding Geek!\"))"
   ]
  },
  {
   "cell_type": "code",
   "execution_count": 11,
   "metadata": {},
   "outputs": [
    {
     "name": "stdout",
     "output_type": "stream",
     "text": [
      "I have 2 eyes, 2 ears, 2 hands, 1 mouth, 2 legs\n"
     ]
    }
   ],
   "source": [
    "#problem: I have to use one value multiple times, eg:\n",
    "print(\"I have %s eyes, %s ears, %s hands, %s mouth, %s legs\"%(2,2,2,1,2))"
   ]
  },
  {
   "cell_type": "code",
   "execution_count": 12,
   "metadata": {},
   "outputs": [
    {
     "name": "stdout",
     "output_type": "stream",
     "text": [
      "I have 2 eyes, 2 ears, 2 hands, 1 mouth, 2 legs\n"
     ]
    }
   ],
   "source": [
    "#solution: using format method and defining variables with name\n",
    "print(\"I have {t} eyes, {t} ears, {t} hands, {o} mouth, {t} legs\".format(t=2,o=1))\n",
    "#no worries of ordering"
   ]
  },
  {
   "cell_type": "code",
   "execution_count": null,
   "metadata": {
    "collapsed": true
   },
   "outputs": [],
   "source": []
  }
 ],
 "metadata": {
  "kernelspec": {
   "display_name": "Python 3",
   "language": "python",
   "name": "python3"
  },
  "language_info": {
   "codemirror_mode": {
    "name": "ipython",
    "version": 3
   },
   "file_extension": ".py",
   "mimetype": "text/x-python",
   "name": "python",
   "nbconvert_exporter": "python",
   "pygments_lexer": "ipython3",
   "version": "3.6.1"
  }
 },
 "nbformat": 4,
 "nbformat_minor": 2
}
