{
 "cells": [
  {
   "cell_type": "markdown",
   "metadata": {},
   "source": [
    "# Strings"
   ]
  },
  {
   "cell_type": "code",
   "execution_count": 16,
   "metadata": {},
   "outputs": [
    {
     "name": "stdout",
     "output_type": "stream",
     "text": [
      "Hello World\n",
      "How are you all??\n"
     ]
    }
   ],
   "source": [
    "#Printing string directly\n",
    "print (\"Hello World\")\n",
    "print(\"How are you all??\")"
   ]
  },
  {
   "cell_type": "code",
   "execution_count": 7,
   "metadata": {
    "collapsed": true
   },
   "outputs": [],
   "source": [
    "#Creating String\n",
    "str = \"Hello World\"\n",
    "single_quote_str= 'I am in single quote'"
   ]
  },
  {
   "cell_type": "code",
   "execution_count": 8,
   "metadata": {},
   "outputs": [
    {
     "name": "stdout",
     "output_type": "stream",
     "text": [
      "Hello World\n",
      "I am in single quote\n"
     ]
    }
   ],
   "source": [
    "#printing String\n",
    "print (str)\n",
    "print (single_quote_str)"
   ]
  },
  {
   "cell_type": "code",
   "execution_count": 12,
   "metadata": {},
   "outputs": [
    {
     "ename": "SyntaxError",
     "evalue": "invalid syntax (<ipython-input-12-530422ac1cba>, line 2)",
     "output_type": "error",
     "traceback": [
      "\u001b[1;36m  File \u001b[1;32m\"<ipython-input-12-530422ac1cba>\"\u001b[1;36m, line \u001b[1;32m2\u001b[0m\n\u001b[1;33m    errstr= 'I'm a coding geek'\u001b[0m\n\u001b[1;37m               ^\u001b[0m\n\u001b[1;31mSyntaxError\u001b[0m\u001b[1;31m:\u001b[0m invalid syntax\n"
     ]
    }
   ],
   "source": [
    "#Problem: I want to use single quote in mid of string\n",
    "errstr= 'I'm a coding geek'"
   ]
  },
  {
   "cell_type": "code",
   "execution_count": 11,
   "metadata": {},
   "outputs": [
    {
     "name": "stdout",
     "output_type": "stream",
     "text": [
      "I'm a coding geek\n"
     ]
    }
   ],
   "source": [
    "#resolution: Use double quote whenever single quote is required in string\n",
    "errstr_resolve= \"I'm a coding geek\"\n",
    "print(errstr_resolve)"
   ]
  },
  {
   "cell_type": "code",
   "execution_count": 13,
   "metadata": {},
   "outputs": [
    {
     "ename": "SyntaxError",
     "evalue": "invalid syntax (<ipython-input-13-66856147c7bd>, line 2)",
     "output_type": "error",
     "traceback": [
      "\u001b[1;36m  File \u001b[1;32m\"<ipython-input-13-66856147c7bd>\"\u001b[1;36m, line \u001b[1;32m2\u001b[0m\n\u001b[1;33m    errstr= \"I am a \"coding geek\"\"\u001b[0m\n\u001b[1;37m                          ^\u001b[0m\n\u001b[1;31mSyntaxError\u001b[0m\u001b[1;31m:\u001b[0m invalid syntax\n"
     ]
    }
   ],
   "source": [
    "#Problem: I want to use double quote in mid of string\n",
    "errstr= \"I am a \"coding geek\"\""
   ]
  },
  {
   "cell_type": "code",
   "execution_count": 14,
   "metadata": {},
   "outputs": [
    {
     "name": "stdout",
     "output_type": "stream",
     "text": [
      "I am a \"coding geek\"\n"
     ]
    }
   ],
   "source": [
    "#resolution: Use single outer quotes whenever double quote is required in string\n",
    "errstr_resolve= 'I am a \"coding geek\"'\n",
    "print(errstr_resolve)"
   ]
  },
  {
   "cell_type": "code",
   "execution_count": 17,
   "metadata": {
    "scrolled": true
   },
   "outputs": [
    {
     "name": "stdout",
     "output_type": "stream",
     "text": [
      "This is a new line \n",
      " and this is a second line\n"
     ]
    }
   ],
   "source": [
    "#new line\n",
    "print(\"This is a new line \\n and this is a second line\")"
   ]
  },
  {
   "cell_type": "code",
   "execution_count": 18,
   "metadata": {},
   "outputs": [
    {
     "name": "stdout",
     "output_type": "stream",
     "text": [
      "This is a new line \t and this is after a tab space in line\n"
     ]
    }
   ],
   "source": [
    "# tab space\n",
    "print(\"This is a new line \\t and this is after a tab space in line\")"
   ]
  },
  {
   "cell_type": "code",
   "execution_count": 20,
   "metadata": {},
   "outputs": [
    {
     "data": {
      "text/plain": [
       "11"
      ]
     },
     "execution_count": 20,
     "metadata": {},
     "output_type": "execute_result"
    }
   ],
   "source": [
    "#checking length of string\n",
    "strng=\"Hello World\"\n",
    "len(strng)"
   ]
  },
  {
   "cell_type": "code",
   "execution_count": 24,
   "metadata": {},
   "outputs": [
    {
     "name": "stdout",
     "output_type": "stream",
     "text": [
      "H l\n"
     ]
    }
   ],
   "source": [
    "# indexing in Python\n",
    "print(strng[0],strng[2])"
   ]
  },
  {
   "cell_type": "code",
   "execution_count": 44,
   "metadata": {},
   "outputs": [
    {
     "name": "stdout",
     "output_type": "stream",
     "text": [
      "ello World\n",
      "Hel\n",
      "ell\n",
      "Hello World\n",
      "\n",
      "slicing using reverse index order, -1 is last element (d)\n",
      "d\n",
      "Hello Worl\n",
      "\n",
      "Grab elements with step size :: means from :(all) to :(all) grab everything. Third element will be step size, eg.\n",
      "HloWrd\n",
      "HlWl\n",
      "\n",
      "Grab elements with step size ::-1 means from :(all) to :(all) grab everything but in step size in reverse order\n",
      "dlroW olleH\n"
     ]
    }
   ],
   "source": [
    "#slicing string\n",
    "print (strng[1:])\n",
    "print (strng[:3])\n",
    "print (strng[1:4])\n",
    "print (strng[:])\n",
    "\n",
    "print(\"\\nslicing using reverse index order, -1 is last element (d)\")\n",
    "print (strng[-1])\n",
    "print (strng[:-1])\n",
    "\n",
    "print(\"\\nGrab elements with step size :: means from :(all) to :(all) grab everything. Third element will be step size, eg.\")\n",
    "print (strng[::2])\n",
    "print (strng[::3])\n",
    "\n",
    "print(\"\\nGrab elements with step size ::-1 means from :(all) to :(all) grab everything but in step size in reverse order\")\n",
    "print (strng[::-1])\n"
   ]
  },
  {
   "cell_type": "code",
   "execution_count": 45,
   "metadata": {},
   "outputs": [
    {
     "ename": "TypeError",
     "evalue": "'str' object does not support item assignment",
     "output_type": "error",
     "traceback": [
      "\u001b[1;31m---------------------------------------------------------------------------\u001b[0m",
      "\u001b[1;31mTypeError\u001b[0m                                 Traceback (most recent call last)",
      "\u001b[1;32m<ipython-input-45-af14fac2eb2d>\u001b[0m in \u001b[0;36m<module>\u001b[1;34m()\u001b[0m\n\u001b[0;32m      1\u001b[0m \u001b[1;31m#stings are immutable\u001b[0m\u001b[1;33m\u001b[0m\u001b[1;33m\u001b[0m\u001b[0m\n\u001b[1;32m----> 2\u001b[1;33m \u001b[0mstrng\u001b[0m\u001b[1;33m[\u001b[0m\u001b[1;36m0\u001b[0m\u001b[1;33m]\u001b[0m\u001b[1;33m=\u001b[0m\u001b[1;34m\"A\"\u001b[0m\u001b[1;33m\u001b[0m\u001b[0m\n\u001b[0m",
      "\u001b[1;31mTypeError\u001b[0m: 'str' object does not support item assignment"
     ]
    }
   ],
   "source": [
    "#stings are immutable\n",
    "strng[0]=\"A\""
   ]
  },
  {
   "cell_type": "code",
   "execution_count": 46,
   "metadata": {},
   "outputs": [
    {
     "data": {
      "text/plain": [
       "'Hello WorldHello World'"
      ]
     },
     "execution_count": 46,
     "metadata": {},
     "output_type": "execute_result"
    }
   ],
   "source": [
    "#String concatenation\n",
    "strng+strng"
   ]
  },
  {
   "cell_type": "code",
   "execution_count": 47,
   "metadata": {},
   "outputs": [
    {
     "data": {
      "text/plain": [
       "'Hello World How are you?'"
      ]
     },
     "execution_count": 47,
     "metadata": {},
     "output_type": "execute_result"
    }
   ],
   "source": [
    "strng+' How are you?'"
   ]
  },
  {
   "cell_type": "code",
   "execution_count": 48,
   "metadata": {},
   "outputs": [
    {
     "data": {
      "text/plain": [
       "'hahahahahahahahahaha'"
      ]
     },
     "execution_count": 48,
     "metadata": {},
     "output_type": "execute_result"
    }
   ],
   "source": [
    "rep=\"ha\"\n",
    "rep*10"
   ]
  },
  {
   "cell_type": "code",
   "execution_count": 57,
   "metadata": {},
   "outputs": [
    {
     "name": "stdout",
     "output_type": "stream",
     "text": [
      "HELLO\n",
      "Hello\n"
     ]
    },
    {
     "data": {
      "text/plain": [
       "['h', 'llo']"
      ]
     },
     "execution_count": 57,
     "metadata": {},
     "output_type": "execute_result"
    }
   ],
   "source": [
    "#Methods on strings in jupyter notebook press tab after . to get all methods applicable on type object, here string object\n",
    "st=\"hello\"\n",
    "print(st.upper())\n",
    "#capitalize makes 1st char of string capital\n",
    "print(st.capitalize())\n",
    "st.split('e')"
   ]
  }
 ],
 "metadata": {
  "kernelspec": {
   "display_name": "Python 3",
   "language": "python",
   "name": "python3"
  }
 },
 "nbformat": 4,
 "nbformat_minor": 2
}
